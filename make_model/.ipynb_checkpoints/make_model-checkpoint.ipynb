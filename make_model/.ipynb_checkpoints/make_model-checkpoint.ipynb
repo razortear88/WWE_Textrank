{
 "cells": [
  {
   "cell_type": "code",
   "execution_count": 2,
   "id": "d485e234",
   "metadata": {},
   "outputs": [],
   "source": [
    "import io\n",
    "import gensim\n",
    "from datetime import timedelta\n",
    "from gensim.models import fasttext,word2vec\n",
    "import time\n",
    "import multiprocessing"
   ]
  },
  {
   "cell_type": "markdown",
   "id": "719e8bad",
   "metadata": {},
   "source": [
    "# Convert Wikipedia Corpus to .txt format"
   ]
  },
  {
   "cell_type": "code",
   "execution_count": null,
   "id": "411b19dc",
   "metadata": {},
   "outputs": [],
   "source": [
    "if __name__ == '__main__':\n",
    "\n",
    "    start_time = time.time()\n",
    "    print('Streaming wiki...')\n",
    "    id_wiki = gensim.corpora.WikiCorpus(\n",
    "        'idwiki-latest-pages-articles.xml.bz2',\n",
    "        lemmatize=False, dictionary={}, lower=True\n",
    "    )\n",
    "    \n",
    "    article_count = 0\n",
    "    with io.open('idwiki_new_lower.txt', 'w', encoding='utf-8') as wiki_txt:\n",
    "        for text in id_wiki.get_texts():\n",
    "\n",
    "            wiki_txt.write(\" \".join(text) + '\\n')\n",
    "            article_count += 1\n",
    "\n",
    "            if article_count % 10000 == 0:\n",
    "                print('{} articles processed'.format(article_count))\n",
    "        print('total: {} articles'.format(article_count))\n",
    "\n",
    "    finish_time = time.time()\n",
    "    print('Elapsed time: {}'.format(timedelta(seconds=finish_time-start_time)))"
   ]
  },
  {
   "cell_type": "markdown",
   "id": "86bee5f2",
   "metadata": {},
   "source": [
    "# Create Word2Vec Word Embedding Model"
   ]
  },
  {
   "cell_type": "code",
   "execution_count": 3,
   "id": "916bf3e2",
   "metadata": {},
   "outputs": [
    {
     "name": "stdout",
     "output_type": "stream",
     "text": [
      "Training Word2Vec Model...\n",
      "Finished. Elapsed time: 0:16:39.045601\n"
     ]
    }
   ],
   "source": [
    "if __name__ == '__main__':\n",
    "    corpus_file = \"\"\n",
    "    #e.g corpus_file = \"idwiki_new_lower.txt\"\n",
    "    model = \"\"\n",
    "    #e.g model = \"idwiki_word2vec_768_new_lower_cbow.model\"\n",
    "    vector_size = 768\n",
    "    workers = multiprocessing.cpu_count()-1\n",
    "    skipgram = False\n",
    "    start_time = time.time()\n",
    "    print('Training Word2Vec Model...')\n",
    "    sentences = word2vec.LineSentence(corpus_file)\n",
    "    w2v = word2vec.Word2Vec(sentences, vector_size=vector_size, workers=workers,sg=skipgram)\n",
    "    w2v.save(model)\n",
    "    finish_time = time.time()\n",
    "    print('Finished. Elapsed time: {}'.format(timedelta(seconds=finish_time-start_time)))"
   ]
  },
  {
   "cell_type": "markdown",
   "id": "a5ccd3cd",
   "metadata": {},
   "source": [
    "# Create Fasttext Word Embedding Model"
   ]
  },
  {
   "cell_type": "code",
   "execution_count": null,
   "id": "9eb5109e",
   "metadata": {},
   "outputs": [],
   "source": [
    "if __name__ == '__main__':\n",
    "    corpus_file = \"\"\n",
    "    #e.g corpus_file = \"idwiki_new_lower.txt\"\n",
    "    model = \"\"\n",
    "    #e.g model = \"idwiki_word2vec_768_new_lower_cbow.model\"\n",
    "    vector_size = 768\n",
    "    workers = multiprocessing.cpu_count()-1\n",
    "    skipgram = False\n",
    "    start_time = time.time()\n",
    "    print('Training FastText Model...')\n",
    "    sentences = word2vec.LineSentence(corpus_file)\n",
    "    ft = fasttext(sentences, vector_size=vector_size, workers=workers, sg=skipgram)\n",
    "    ft.save(model)\n",
    "    finish_time = time.time()\n",
    "    print('Finished. Elapsed time: {}'.format(timedelta(seconds=finish_time-start_time)))"
   ]
  }
 ],
 "metadata": {
  "kernelspec": {
   "display_name": "Python 3 (ipykernel)",
   "language": "python",
   "name": "python3"
  },
  "language_info": {
   "codemirror_mode": {
    "name": "ipython",
    "version": 3
   },
   "file_extension": ".py",
   "mimetype": "text/x-python",
   "name": "python",
   "nbconvert_exporter": "python",
   "pygments_lexer": "ipython3",
   "version": "3.10.1"
  }
 },
 "nbformat": 4,
 "nbformat_minor": 5
}
