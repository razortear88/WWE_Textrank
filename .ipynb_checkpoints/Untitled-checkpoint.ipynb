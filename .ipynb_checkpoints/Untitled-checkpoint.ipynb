{
 "cells": [
  {
   "cell_type": "markdown",
   "id": "f38e6282",
   "metadata": {},
   "source": [
    "# Preprocessing"
   ]
  },
  {
   "cell_type": "code",
   "execution_count": 1,
   "id": "d485e234",
   "metadata": {},
   "outputs": [],
   "source": [
    "from datetime import timedelta\n",
    "from gensim.models import fasttext,word2vec\n",
    "from rank_bm25 import BM25Okapi\n",
    "from sklearn.metrics.pairwise import cosine_similarity\n",
    "import networkx as nx\n",
    "import json\n",
    "import re\n",
    "import nltk\n",
    "import numpy as np\n",
    "import pandas as pd\n",
    "import os\n",
    "import time\n",
    "import multiprocessing"
   ]
  },
  {
   "cell_type": "markdown",
   "id": "86bee5f2",
   "metadata": {},
   "source": [
    "# Create Word2Vec Word Embedding Model"
   ]
  },
  {
   "cell_type": "code",
   "execution_count": 3,
   "id": "916bf3e2",
   "metadata": {},
   "outputs": [
    {
     "name": "stdout",
     "output_type": "stream",
     "text": [
      "Training Word2Vec Model...\n",
      "Finished. Elapsed time: 0:16:39.045601\n"
     ]
    }
   ],
   "source": [
    "from gensim.models import word2vec\n",
    "\n",
    "if __name__ == '__main__':\n",
    "    file = \"\"\n",
    "    destination = \"\"\n",
    "    vector_size = 768\n",
    "    workers = multiprocessing.cpu_count()-1\n",
    "    skipgram = False\n",
    "    start_time = time.time()\n",
    "    print('Training Word2Vec Model...')\n",
    "    sentences = word2vec.LineSentence(file)\n",
    "    id_w2v = word2vec.Word2Vec(sentences, vector_size=vector_size, workers=workers,sg=skipgram)\n",
    "    id_w2v.save(destination)\n",
    "    finish_time = time.time()\n",
    "    print('Finished. Elapsed time: {}'.format(timedelta(seconds=finish_time-start_time)))"
   ]
  },
  {
   "cell_type": "markdown",
   "id": "a5ccd3cd",
   "metadata": {},
   "source": [
    "# Create Fasttext Word Embedding Model"
   ]
  },
  {
   "cell_type": "code",
   "execution_count": null,
   "id": "9eb5109e",
   "metadata": {},
   "outputs": [],
   "source": [
    "if __name__ == '__main__':\n",
    "    file = \"\"\n",
    "    destination = \"\"\n",
    "    vector_size = 768\n",
    "    workers = multiprocessing.cpu_count()-1\n",
    "    skipgram = False\n",
    "    start_time = time.time()\n",
    "    print('Training FastText Model...')\n",
    "    sentences = word2vec.LineSentence(file)\n",
    "    id_ft = FastText(sentences, vector_size=vector_size, workers=workers, sg=skipgram)\n",
    "    id_ft.save(destination)\n",
    "    finish_time = time.time()\n",
    "    print('Finished. Elapsed time: {}'.format(timedelta(seconds=finish_time-start_time)))"
   ]
  }
 ],
 "metadata": {
  "kernelspec": {
   "display_name": "Python 3 (ipykernel)",
   "language": "python",
   "name": "python3"
  },
  "language_info": {
   "codemirror_mode": {
    "name": "ipython",
    "version": 3
   },
   "file_extension": ".py",
   "mimetype": "text/x-python",
   "name": "python",
   "nbconvert_exporter": "python",
   "pygments_lexer": "ipython3",
   "version": "3.10.1"
  }
 },
 "nbformat": 4,
 "nbformat_minor": 5
}
